{
 "cells": [
  {
   "cell_type": "code",
   "execution_count": 19,
   "metadata": {},
   "outputs": [
    {
     "name": "stdout",
     "output_type": "stream",
     "text": [
      "< [1, 0] | [0.7071067811865475, 0.7071067811865475j] >\n",
      "Take the inner products:  (0.7071067811865475+0j)\n",
      "Find the complex conjugate:  (0.7071067811865475-0j)\n",
      "Probability:  (0.4999999999999999+0j)\n"
     ]
    }
   ],
   "source": [
    "#finds the probability of measuring a state  |𝜓⟩  in the state  |𝑥⟩\n",
    "#𝑝(|𝑥⟩)=|⟨𝑥|𝜓⟩| squared\n",
    "\n",
    "#in other words calculates the probabilities of quantum states\n",
    "\n",
    "#references: \n",
    "# [1] https://qiskit.org/textbook/ch-states/representing-qubit-states.html##1-Normalisation\n",
    "# [2] https://www.wikihow.com/Calculate-Probabilities-of-Quantum-States\n",
    "\n",
    "#TODO: format sqrt, division\n",
    "\n",
    "#necessary imports\n",
    "from math import sqrt\n",
    "from numpy import dot, inner, conj\n",
    "\n",
    "#get the state |𝜓⟩\n",
    "\n",
    "psi = [1/sqrt(2), 1j/sqrt(2)]\n",
    "\n",
    "#get the state we want to measure that is |𝑥⟩\n",
    "\n",
    "x = [1, 0]\n",
    "\n",
    "#TODO: validate |𝑥⟩\n",
    "\n",
    "# step 1: print out what we want to calculate\n",
    "print('<', x, '|', psi, '>')\n",
    "\n",
    "# step 2: To find the probability amplitude for |𝜓⟩ to be found in the state |𝑥⟩; take the inner products\n",
    "inner_product = inner(x,psi)\n",
    "print(\"Take the inner products: \", inner_product)\n",
    "\n",
    "# step 3: Square the amplitude. \n",
    "# The probability is the modulus squared. \n",
    "# Remember that the modulus squared means to multiply the amplitude with its complex conjugate.\n",
    "conjugate = conj(inner_product)\n",
    "print(\"Find the complex conjugate: \", conjugate)\n",
    "probability = conjugate * inner_product\n",
    "print(\"Probability: \", probability)\n",
    "\n"
   ]
  },
  {
   "cell_type": "code",
   "execution_count": null,
   "metadata": {},
   "outputs": [],
   "source": []
  }
 ],
 "metadata": {
  "kernelspec": {
   "display_name": "Python 3",
   "language": "python",
   "name": "python3"
  },
  "language_info": {
   "codemirror_mode": {
    "name": "ipython",
    "version": 3
   },
   "file_extension": ".py",
   "mimetype": "text/x-python",
   "name": "python",
   "nbconvert_exporter": "python",
   "pygments_lexer": "ipython3",
   "version": "3.7.3"
  }
 },
 "nbformat": 4,
 "nbformat_minor": 2
}
